{
 "cells": [
  {
   "cell_type": "markdown",
   "metadata": {},
   "source": [
    "# Youtube Data APIを用いたバーチャルYoutuberのデータ収集\n",
    "by konkon"
   ]
  },
  {
   "cell_type": "markdown",
   "metadata": {},
   "source": [
    "## 前準備\n",
    "Youtube Data APIのAPI_KEYは以下の方法で参考に取得してください。\n",
    "\n",
    "https://www.gwtcenter.com/getting-google-api-key  \n",
    "https://www.koredaism.com/web-service/%E3%80%90%E5%8B%95%E7%94%BB%E3%81%BE%E3%81%A8%E3%82%81%E3%82%B5%E3%82%A4%E3%83%88%E3%80%912019%E7%89%88-youtube-api-%E8%A9%B3%E3%81%97%E3%81%84%E7%B0%A1%E5%8D%98%E3%81%AA%E5%8F%96%E5%BE%97%E6%96%B9/  \n",
    "\n",
    "API_KEYの取得にはGoogleアカウントの作成とGCP(Google Cloud Platform)のプロジェクト作成が必要になります。\n",
    "GCPプロジェクトの作成方法は以下を参照してください。\n",
    "\n",
    "https://www.gwtcenter.com/creating-a-project-in-gcp"
   ]
  },
  {
   "cell_type": "markdown",
   "metadata": {},
   "source": [
    "## 実行環境\n",
    "\n",
    "Python >= 3.6.5  \n",
    "numpy >= 1.14.5  \n",
    "google-api-python-client >= 1.7.11  \n",
    "tqdm >= 4.23.4  \n",
    "ipywidgets >= 7.2.1  \n",
    "widgetsnbextension >= 3.2.1\n",
    " \n",
    "Jupyterの導入方法は以下の記事を参考にしてください。\n",
    "https://qiita.com/KI1208/items/a7765e6fdc95c3e03609\n",
    "\n",
    "### tqdmのJupyter-notebookでの使用方法\n",
    "コマンドプロンプトで以下のように入力してください。\n",
    "```\n",
    "pip install tqdm  \n",
    "pip install widgetsnbextension  \n",
    "jupyter nbextension enable --py --sys-prefix widgetsnbextension  \n",
    "```"
   ]
  },
  {
   "cell_type": "markdown",
   "metadata": {},
   "source": [
    "## インポート"
   ]
  },
  {
   "cell_type": "code",
   "execution_count": 52,
   "metadata": {},
   "outputs": [],
   "source": [
    "import re\n",
    "import numpy as np\n",
    "import datetime\n",
    "import time\n",
    "\n",
    "from apiclient.discovery import build\n",
    "\n",
    "from tqdm import tqdm_notebook as tqdm\n",
    "from ipywidgets import IntProgress"
   ]
  },
  {
   "cell_type": "markdown",
   "metadata": {},
   "source": [
    "## APIkeyの入力"
   ]
  },
  {
   "cell_type": "code",
   "execution_count": 53,
   "metadata": {},
   "outputs": [],
   "source": [
    "API_KEY='XXXXX'"
   ]
  },
  {
   "cell_type": "markdown",
   "metadata": {},
   "source": [
    "## チャンネルIDの入力\n",
    "チャンネルIDは、対象のYoutubeチャンネルURLから確認できます。  \n",
    "例：Siro Channel(電脳少女シロ)の場合、チャンネルURLは https://www.youtube.com/channel/UCLhUvJ_wO9hOvv_yYENu4fQ であり、  \n",
    "チャンネルIDはこの末尾の'UCLhUvJ_wO9hOvv_yYENu4fQ'となります。"
   ]
  },
  {
   "cell_type": "code",
   "execution_count": 65,
   "metadata": {},
   "outputs": [],
   "source": [
    "id_ = 'UCUZ5AlC3rTlM-rA2cj5RP6w' #例: 神楽すず"
   ]
  },
  {
   "cell_type": "markdown",
   "metadata": {},
   "source": [
    "## チャンネル情報の取得\n",
    "チャンネル内の全ての動画のプレイリストIDを取得します。"
   ]
  },
  {
   "cell_type": "code",
   "execution_count": 66,
   "metadata": {},
   "outputs": [],
   "source": [
    "def YoutubeChannelDetails(id_, API_KEY):\n",
    "    API_SERVICE_NAME = \"youtube\"\n",
    "    API_VERSION = \"v3\"\n",
    "\n",
    "    youtube = build(API_SERVICE_NAME, API_VERSION, developerKey=API_KEY)\n",
    "    search_response = youtube.channels().list(\n",
    "    part= 'snippet,contentDetails',\n",
    "    id=id_,\n",
    "    ).execute()\n",
    "    \n",
    "    return search_response['items'][0]"
   ]
  },
  {
   "cell_type": "code",
   "execution_count": 67,
   "metadata": {},
   "outputs": [],
   "source": [
    "ChannelDetails = YoutubeChannelDetails(id_,API_KEY)"
   ]
  },
  {
   "cell_type": "code",
   "execution_count": 68,
   "metadata": {},
   "outputs": [],
   "source": [
    "ChannelTitle = '-'.join(ChannelDetails['snippet']['title'].split(' '))\n",
    "uploads = ChannelDetails['contentDetails']['relatedPlaylists']['uploads']"
   ]
  },
  {
   "cell_type": "markdown",
   "metadata": {},
   "source": [
    "## チャンネル内の動画IDの取得"
   ]
  },
  {
   "cell_type": "code",
   "execution_count": 69,
   "metadata": {},
   "outputs": [],
   "source": [
    "def YoutubePlaylistContents(id_, API_KEY):\n",
    "    \n",
    "    responses = []\n",
    "    nextPageToken = 'start'\n",
    "    counts = 0\n",
    "\n",
    "    while(nextPageToken is not None):\n",
    "        \n",
    "        API_SERVICE_NAME = \"youtube\"\n",
    "        API_VERSION = \"v3\"\n",
    "\n",
    "        youtube = build(API_SERVICE_NAME, API_VERSION, developerKey=API_KEY)\n",
    "\n",
    "        if(nextPageToken == 'start'):\n",
    "            search_response = youtube.playlistItems().list(\n",
    "            part= 'snippet',\n",
    "            playlistId=id_,\n",
    "            maxResults = 50,\n",
    "            ).execute()\n",
    "            nextPageToken = search_response['nextPageToken']\n",
    "        else:\n",
    "            search_response = youtube.playlistItems().list(\n",
    "            part= 'snippet',\n",
    "            playlistId=id_,\n",
    "            maxResults = 50,\n",
    "            pageToken = nextPageToken\n",
    "            ).execute()\n",
    "            try:\n",
    "                nextPageToken = search_response['nextPageToken']\n",
    "            except:\n",
    "                nextPageToken = None\n",
    "        \n",
    "        responses.extend(search_response['items'])\n",
    "        counts += len(search_response['items'])\n",
    "    \n",
    "    print('load '+str(counts)+' videos...')\n",
    "    \n",
    "    return responses"
   ]
  },
  {
   "cell_type": "code",
   "execution_count": 70,
   "metadata": {},
   "outputs": [
    {
     "name": "stdout",
     "output_type": "stream",
     "text": [
      "load 245 videos...\n"
     ]
    }
   ],
   "source": [
    "total_contents = YoutubePlaylistContents(uploads,API_KEY)"
   ]
  },
  {
   "cell_type": "markdown",
   "metadata": {},
   "source": [
    "## 取得データからの情報抽出\n",
    "チャンネル内の全ての動画のタイトル、投稿日時、動画IDを取得します。"
   ]
  },
  {
   "cell_type": "code",
   "execution_count": 71,
   "metadata": {},
   "outputs": [],
   "source": [
    "dic_total = []\n",
    "for t in total_contents:\n",
    "    \n",
    "    date_list = t['snippet']['publishedAt'].split('T')\n",
    "    year, month, date = date_list[0].split('-')\n",
    "    hour, minute, sec = date_list[1].split(':')\n",
    "    sec = sec[:2]\n",
    "    \n",
    "    dic = {'title':t['snippet']['title'], \n",
    "           'date':datetime.datetime(int(year),int(month),int(date),int(hour),int(minute),int(sec)),\n",
    "           'Id':t['snippet']['resourceId']['videoId']}\n",
    "    \n",
    "    dic_total.append(dic)"
   ]
  },
  {
   "cell_type": "markdown",
   "metadata": {},
   "source": [
    "## 各動画の情報を取得\n",
    "全ての動画の再生回数、高/低評価数、コメント数、再生時間を取得します。"
   ]
  },
  {
   "cell_type": "code",
   "execution_count": 72,
   "metadata": {},
   "outputs": [],
   "source": [
    "def ConvertDuration(string):\n",
    "    string = string.replace('PT', '') \n",
    "    strings = re.split('\\D',string)[:-1]\n",
    "    if(len(strings) == 3):\n",
    "        delta = datetime.timedelta(hours=int(strings[0]),\n",
    "                                   minutes=int(strings[1]),\n",
    "                                   seconds=int(strings[2]))\n",
    "    elif(len(strings) == 2):\n",
    "        delta = datetime.timedelta(minutes=int(strings[0]),\n",
    "                                   seconds=int(strings[1]))\n",
    "    elif(len(strings) == 1):\n",
    "        delta =datetime.timedelta(seconds=int(strings[0]))\n",
    "    else:\n",
    "        delta = datetime.timedelta(seconds=0)\n",
    "    \n",
    "    return delta.seconds\n",
    "\n",
    "def YoutubeVideoDetails(id_, API_KEY):\n",
    "    API_SERVICE_NAME = \"youtube\"\n",
    "    API_VERSION = \"v3\"\n",
    "\n",
    "    youtube = build(API_SERVICE_NAME, API_VERSION, developerKey=API_KEY)\n",
    "\n",
    "    search_response = youtube.videos().list(\n",
    "    part= 'statistics,contentDetails',\n",
    "    id=id_,\n",
    "    ).execute()\n",
    "    \n",
    "    hoge = search_response['items'][0]\n",
    "    details = {'viewCount':int(hoge['statistics']['viewCount']),\n",
    "               'likeCount':int(hoge['statistics']['likeCount']),\n",
    "               'dislikeCount':int(hoge['statistics']['dislikeCount']),\n",
    "               'commentCount':int(hoge['statistics']['commentCount']),\n",
    "               'duration':ConvertDuration(str(hoge['contentDetails']['duration']))}\n",
    "    \n",
    "    return details"
   ]
  },
  {
   "cell_type": "code",
   "execution_count": 73,
   "metadata": {},
   "outputs": [
    {
     "data": {
      "application/vnd.jupyter.widget-view+json": {
       "model_id": "cd2b78b3a1834d53b5473c0779985b88",
       "version_major": 2,
       "version_minor": 0
      },
      "text/plain": [
       "HBox(children=(IntProgress(value=0, max=245), HTML(value='')))"
      ]
     },
     "metadata": {},
     "output_type": "display_data"
    }
   ],
   "source": [
    "for n,d in enumerate(tqdm(np.array([i['Id'] for i in dic_total]))):\n",
    "    details = YoutubeVideoDetails(d,API_KEY)\n",
    "    dic_total[n].update(details)\n",
    "dic_total = np.array(dic_total)"
   ]
  },
  {
   "cell_type": "markdown",
   "metadata": {},
   "source": [
    "## 取得情報のサンプルを表示\n",
    "\n",
    "date: 投稿日時 (datetime)  \n",
    "Id: 動画ID  \n",
    "viewCount: 再生数  \n",
    "likeCount: 高評価数  \n",
    "dislikeCount: 低評価数  \n",
    "commentCount: コメント数  \n",
    "duration: 再生時間(秒)  "
   ]
  },
  {
   "cell_type": "code",
   "execution_count": 96,
   "metadata": {},
   "outputs": [
    {
     "data": {
      "text/plain": [
       "{'title': 'APE OUT やる 02',\n",
       " 'date': datetime.datetime(2019, 3, 29, 12, 10, 6),\n",
       " 'Id': 'ijauZ-6ZdJ4',\n",
       " 'viewCount': 30327,\n",
       " 'likeCount': 2910,\n",
       " 'dislikeCount': 7,\n",
       " 'commentCount': 29,\n",
       " 'duration': 3550}"
      ]
     },
     "execution_count": 96,
     "metadata": {},
     "output_type": "execute_result"
    }
   ],
   "source": [
    "dic_total[100]"
   ]
  },
  {
   "cell_type": "markdown",
   "metadata": {},
   "source": [
    "## 取得したデータの保存"
   ]
  },
  {
   "cell_type": "code",
   "execution_count": 46,
   "metadata": {},
   "outputs": [],
   "source": [
    "np.save(ChannelTitle+'-data.npy',dic_total)"
   ]
  }
 ],
 "metadata": {
  "kernelspec": {
   "display_name": "Python 3",
   "language": "python",
   "name": "python3"
  },
  "language_info": {
   "codemirror_mode": {
    "name": "ipython",
    "version": 3
   },
   "file_extension": ".py",
   "mimetype": "text/x-python",
   "name": "python",
   "nbconvert_exporter": "python",
   "pygments_lexer": "ipython3",
   "version": "3.6.5"
  }
 },
 "nbformat": 4,
 "nbformat_minor": 2
}
